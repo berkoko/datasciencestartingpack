{
 "cells": [
  {
   "cell_type": "markdown",
   "id": "27188d7f",
   "metadata": {},
   "source": [
    "<h1>Data Science Tools and Ecosystem</h1>"
   ]
  },
  {
   "cell_type": "markdown",
   "id": "e4296ebd",
   "metadata": {},
   "source": [
    "In this notebook, Data Science Tools and Ecosystem are summarized."
   ]
  },
  {
   "cell_type": "markdown",
   "id": "a33a8f46",
   "metadata": {},
   "source": [
    "**Objectives:**\n",
    "* Learning visiualization\n",
    "* Using libraries such as ggplot\n",
    "* Getting used to work with GitHub"
   ]
  },
  {
   "cell_type": "markdown",
   "id": "5648d728",
   "metadata": {},
   "source": [
    "Some of the popular languages that Data Scientists use are:\n",
    "1. Python\n",
    "2. R\n",
    "3. Java"
   ]
  },
  {
   "cell_type": "markdown",
   "id": "f98626fb",
   "metadata": {},
   "source": [
    "Some of the commonly used libraries used by Data Scientists include:\n",
    "1. DplyR\n",
    "2. Ggplot\n",
    "3. Caret\n",
    "4. StringR\n"
   ]
  },
  {
   "cell_type": "markdown",
   "id": "74ecf8b4",
   "metadata": {},
   "source": [
    "| <h1> Data Science Tools</h1> |\n",
    "| -------------|\n",
    "| RStuido |\n",
    "| Jupyter |\n",
    "| Anaconda | "
   ]
  },
  {
   "cell_type": "markdown",
   "id": "f5fa562d",
   "metadata": {},
   "source": [
    "<H3>Below are a few examples of evaluating arithmetic expressions in Python.</H3>\n"
   ]
  },
  {
   "cell_type": "code",
   "execution_count": 1,
   "id": "d72086ef",
   "metadata": {},
   "outputs": [
    {
     "data": {
      "text/plain": [
       "17"
      ]
     },
     "execution_count": 1,
     "metadata": {},
     "output_type": "execute_result"
    }
   ],
   "source": [
    "#this a simple arithmetic expression to mutiply then add integers\n",
    "(3*4)+5"
   ]
  },
  {
   "cell_type": "code",
   "execution_count": 4,
   "id": "d4a78dcd",
   "metadata": {},
   "outputs": [
    {
     "name": "stdout",
     "output_type": "stream",
     "text": [
      "3.3333333333333335\n"
     ]
    }
   ],
   "source": [
    "minutes = 200\n",
    "hour = minutes / 60\n",
    "print(hour)"
   ]
  },
  {
   "cell_type": "markdown",
   "id": "e3ccc5a2",
   "metadata": {},
   "source": [
    "<h2> Author </h2>\n",
    "Berk"
   ]
  },
  {
   "cell_type": "markdown",
   "id": "1388e1e7",
   "metadata": {},
   "source": []
  }
 ],
 "metadata": {
  "kernelspec": {
   "display_name": "Python 3 (ipykernel)",
   "language": "python",
   "name": "python3"
  },
  "language_info": {
   "codemirror_mode": {
    "name": "ipython",
    "version": 3
   },
   "file_extension": ".py",
   "mimetype": "text/x-python",
   "name": "python",
   "nbconvert_exporter": "python",
   "pygments_lexer": "ipython3",
   "version": "3.10.12"
  }
 },
 "nbformat": 4,
 "nbformat_minor": 5
}
